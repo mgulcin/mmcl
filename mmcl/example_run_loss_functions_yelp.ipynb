{
 "cells": [
  {
   "cell_type": "markdown",
   "metadata": {},
   "source": [
    "# Run [MMCL, CCL] loss functions on [MF] architecture using Yelp dataset\n",
    "\n",
    "Used after preparing the configs\n",
    "These are run in a notebook, hence python and scripting codes are mixed"
   ]
  },
  {
   "cell_type": "code",
   "execution_count": null,
   "metadata": {},
   "outputs": [],
   "source": [
    "import os\n",
    "from mmcl.config_update import (\n",
    "    update_config\n",
    ")"
   ]
  },
  {
   "cell_type": "code",
   "execution_count": null,
   "metadata": {},
   "outputs": [],
   "source": [
    "# Path in examples:  path: .../simplex/RecZoo/ or ColabNotebooks\n",
    "os.chdir('<path>/matching/cf/SimpleX')"
   ]
  },
  {
   "cell_type": "code",
   "execution_count": null,
   "metadata": {},
   "outputs": [],
   "source": [
    "# Bash code - run\n",
    "! pip install -r requirements3.txt\n",
    "\n",
    "# path to this repository\n",
    "! pip install <path>/simplex/RecBox-0.0.4mg"
   ]
  },
  {
   "cell_type": "code",
   "execution_count": null,
   "metadata": {},
   "outputs": [],
   "source": [
    "os.chdir('<path>/matching/cf/SimpleX')"
   ]
  },
  {
   "cell_type": "markdown",
   "metadata": {},
   "source": [
    "## Yelp - MF"
   ]
  },
  {
   "cell_type": "code",
   "execution_count": null,
   "metadata": {},
   "outputs": [],
   "source": [
    "# # Yelp - MF\n",
    "config_path = \"<path>/matching/cf/SimpleX/config/MF_CCL_yelp18_m1/model_config.yaml\"\n",
    "config_name = \"MF_CCL_yelp18_m1\""
   ]
  },
  {
   "cell_type": "markdown",
   "metadata": {},
   "source": [
    "### Example run -1  (CCL)\n"
   ]
  },
  {
   "cell_type": "code",
   "execution_count": null,
   "metadata": {},
   "outputs": [],
   "source": [
    "# Updated CCL\n",
    "field_name_2_new_value = {\n",
    "    \"num_negs\": 800,\n",
    "    \"patience\": 200 \n",
    "}\n",
    "  \n",
    "update_config(config_path=config_path, config_name=config_name, field_name_2_new_value=field_name_2_new_value)\n",
    "!python run_expid.py --config ./config/MF_CCL_yelp18_m1 --expid MF_CCL_yelp18_m1 --gpu 0"
   ]
  },
  {
   "cell_type": "code",
   "execution_count": null,
   "metadata": {},
   "outputs": [],
   "source": [
    "# Updated CCL # since epoch=100, early stop does not work\n",
    "field_name_2_new_value = {\n",
    "    \"num_negs\": 800,\n",
    "    \"patience\": 200,\n",
    "    \"reduce_lr_on_plateau\": False\n",
    "}\n",
    "  \n",
    "update_config(config_path=config_path, config_name=config_name, field_name_2_new_value=field_name_2_new_value)\n",
    "!python run_expid.py --config ./config/MF_CCL_yelp18_m1 --expid MF_CCL_yelp18_m1 --gpu 0"
   ]
  },
  {
   "cell_type": "code",
   "execution_count": null,
   "metadata": {},
   "outputs": [],
   "source": [
    "# Updated CCL\n",
    "field_name_2_new_value = {\n",
    "    \"num_negs\": 100,\n",
    "    \"patience\": 200,\n",
    "    \"reduce_lr_on_plateau\": False\n",
    "}\n",
    "  \n",
    "update_config(config_path=config_path, config_name=config_name, field_name_2_new_value=field_name_2_new_value)\n",
    "!python run_expid.py --config ./config/MF_CCL_yelp18_m1 --expid MF_CCL_yelp18_m1 --gpu 0\n"
   ]
  },
  {
   "cell_type": "markdown",
   "metadata": {},
   "source": [
    "### Example run - 2 (MultiCosineContrastiveLoss)"
   ]
  },
  {
   "cell_type": "code",
   "execution_count": null,
   "metadata": {},
   "outputs": [],
   "source": [
    "# Updated MMCL, 10 0nnegs, not reduced lr\n",
    "# since epoch=100, early stop does not work when \"patience\": 200,  \n",
    "field_name_2_new_value = {\n",
    "    \"loss\": \"MultiCosineContrastiveLoss\",\n",
    "    \"num_negs\": 100,\n",
    "    \"patience\": 200,  \n",
    "    \"margin_values_list\": [0.6, 0.7, 0.8, 0.9],\n",
    "    \"negative_weights_list\": [0.05, 0.15, 0.2, 0.6],\n",
    "    \"pos_weight\": 1,\n",
    "    \"neg_weight\": 400,\n",
    "    \"reduce_lr_on_plateau\": False\n",
    "}\n",
    "\n",
    "update_config(config_path=config_path, config_name=config_name, field_name_2_new_value=field_name_2_new_value)\n",
    "! python run_expid.py --config ./config/MF_CCL_yelp18_m1 --expid MF_CCL_yelp18_m1 --gpu 0"
   ]
  },
  {
   "cell_type": "code",
   "execution_count": null,
   "metadata": {},
   "outputs": [],
   "source": [
    "# Updated MML - 10 nnegs - not reduced lr\n",
    "# since epoch=100, early stop does not work when \"patience\": 200,  \n",
    "field_name_2_new_value = {\n",
    "    \"loss\": \"MultiCosineContrastiveLoss\",\n",
    "    \"num_negs\": 10,\n",
    "    \"patience\": 200,  \n",
    "    \"margin_values_list\": [0.6, 0.7, 0.8, 0.9],\n",
    "    \"negative_weights_list\": [0.05, 0.15, 0.2, 0.6],\n",
    "    \"pos_weight\": 1,\n",
    "    \"neg_weight\": 400,\n",
    "    \"reduce_lr_on_plateau\": False\n",
    "    \n",
    "}\n",
    "\n",
    "update_config(config_path=config_path, config_name=config_name, field_name_2_new_value=field_name_2_new_value)\n",
    "! python run_expid.py --config ./config/MF_CCL_yelp18_m1 --expid MF_CCL_yelp18_m1 --gpu 0"
   ]
  },
  {
   "cell_type": "code",
   "execution_count": null,
   "metadata": {},
   "outputs": [],
   "source": []
  }
 ],
 "metadata": {
  "kernelspec": {
   "display_name": "Python 3",
   "language": "python",
   "name": "python3"
  },
  "language_info": {
   "codemirror_mode": {
    "name": "ipython",
    "version": 3
   },
   "file_extension": ".py",
   "mimetype": "text/x-python",
   "name": "python",
   "nbconvert_exporter": "python",
   "pygments_lexer": "ipython3",
   "version": "3.9.6"
  }
 },
 "nbformat": 4,
 "nbformat_minor": 2
}
