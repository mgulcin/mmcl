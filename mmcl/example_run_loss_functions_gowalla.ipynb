{
 "cells": [
  {
   "cell_type": "markdown",
   "metadata": {},
   "source": [
    "# Run [MMCL, CCL, Other] loss functions on [MF,Simplex] architectures using Gowalla dataset\n",
    "\n",
    "Used after preparing the configs\n",
    "\n",
    "These are run in a notebook, hence python and scripting codes are mixed"
   ]
  },
  {
   "cell_type": "code",
   "execution_count": null,
   "metadata": {},
   "outputs": [],
   "source": [
    "import os\n",
    "from mmcl.config_update import (\n",
    "    update_config\n",
    ")"
   ]
  },
  {
   "cell_type": "code",
   "execution_count": null,
   "metadata": {},
   "outputs": [],
   "source": [
    "# Path in examples:  path: .../simplex/RecZoo/\n",
    "os.chdir('<path>/matching/cf/SimpleX')"
   ]
  },
  {
   "cell_type": "code",
   "execution_count": null,
   "metadata": {},
   "outputs": [],
   "source": [
    "# Bash code - run\n",
    "! pip install -r requirements3.txt\n",
    "! pip install /kaggle/working/ColabNotebooks/simplex/RecBox-0.0.4mg"
   ]
  },
  {
   "cell_type": "code",
   "execution_count": null,
   "metadata": {},
   "outputs": [],
   "source": [
    "os.chdir('<path>/matching/cf/SimpleX')"
   ]
  },
  {
   "cell_type": "markdown",
   "metadata": {},
   "source": [
    "## Gowalla - MF"
   ]
  },
  {
   "cell_type": "code",
   "execution_count": null,
   "metadata": {},
   "outputs": [],
   "source": [
    "# # Gowalla - MF\n",
    "config_path = \"<path>/matching/cf/SimpleX/config/MF_CCL_gowalla_m1/model_config.yaml\"\n",
    "config_name = \"MF_CCL_gowalla_2m1\""
   ]
  },
  {
   "cell_type": "markdown",
   "metadata": {},
   "source": [
    "### Example run -1  (CCL)\n"
   ]
  },
  {
   "cell_type": "code",
   "execution_count": null,
   "metadata": {},
   "outputs": [],
   "source": [
    "# Example run -1 \n",
    "# Updated CCL\n",
    "field_name_2_new_value = {\n",
    "    \"num_negs\": 800,\n",
    "    \"patience\": 200,\n",
    "    \"reduce_lr_on_plateau\": False\n",
    "}\n",
    "update_config(config_path=config_path, config_name=config_name, field_name_2_new_value=field_name_2_new_value)\n",
    "\n",
    "# Bash code - run\n",
    "! python run_expid.py --config ./config/MF_CCL_gowalla_m1 --expid MF_CCL_gowalla_m1 --gpu 0"
   ]
  },
  {
   "cell_type": "markdown",
   "metadata": {},
   "source": [
    "### Example run - 2 (MultiCosineContrastiveLoss)"
   ]
  },
  {
   "cell_type": "code",
   "execution_count": null,
   "metadata": {},
   "outputs": [],
   "source": [
    "# Example run -2\n",
    "# Updated MMCL - 800 nnegs - not reduced lr\n",
    "# since epoch=100, early stop does not work when \"patience\": 200,  \n",
    "field_name_2_new_value = {\n",
    "    \"loss\": \"MultiCosineContrastiveLoss\",\n",
    "    \"num_negs\": 800,\n",
    "    \"patience\": 200,  \n",
    "    \"margin_values_list\": [0.7, 0.8, 0.9],\n",
    "    \"negative_weights_list\": [0.10, 0.15, 0.75],\n",
    "    \"pos_weight\": 1,\n",
    "    \"neg_weight\": 700,\n",
    "    \"reduce_lr_on_plateau\": False\n",
    "    \n",
    "}\n",
    "update_config(config_path=config_path, config_name=config_name, field_name_2_new_value=field_name_2_new_value)\n",
    "# Bash code - run\n",
    "! python run_expid.py --config ./config/MF_CCL_gowalla_m1 --expid MF_CCL_gowalla_m1 --gpu 0"
   ]
  },
  {
   "cell_type": "markdown",
   "metadata": {},
   "source": [
    "### Example run -3 (MultiCosineContrastiveLoss)"
   ]
  },
  {
   "cell_type": "code",
   "execution_count": null,
   "metadata": {},
   "outputs": [],
   "source": [
    "# Updated MMCL - 100 nnegs - not reduced lr- early stop\n",
    "field_name_2_new_value = {\n",
    "    \"loss\": \"MultiCosineContrastiveLoss\",\n",
    "    \"num_negs\": 100,\n",
    "    \"patience\": 3,  \n",
    "    \"margin_values_list\": [0.7, 0.8, 0.9],\n",
    "    \"negative_weights_list\": [0.10, 0.15, 0.75],\n",
    "    \"pos_weight\": 1,\n",
    "    \"neg_weight\": 700,\n",
    "    \"reduce_lr_on_plateau\": False\n",
    "    \n",
    "}\n",
    "\n",
    "update_config(config_path=config_path, config_name=config_name, field_name_2_new_value=field_name_2_new_value)\n",
    "# Bash code - run\n",
    "! python run_expid.py --config ./config/MF_CCL_gowalla_m1 --expid MF_CCL_gowalla_m1 --gpu 0"
   ]
  },
  {
   "cell_type": "markdown",
   "metadata": {},
   "source": [
    "### Example run - 4 (MSELoss)"
   ]
  },
  {
   "cell_type": "code",
   "execution_count": null,
   "metadata": {},
   "outputs": [],
   "source": [
    "\n",
    "\n",
    "# Updated  - 100 nnegs - not reduced lr\n",
    "# since epoch=100, early stop does not work when \"patience\": 200,  \n",
    "field_name_2_new_value = {\n",
    "    \"loss\": \"MSELoss\",\n",
    "    \"num_negs\": 100,\n",
    "    \"patience\": 200,  \n",
    "    \"reduce_lr_on_plateau\": False\n",
    "    \n",
    "}\n",
    "\n",
    "update_config(config_path=config_path, config_name=config_name, field_name_2_new_value=field_name_2_new_value)\n",
    "! python run_expid.py --config ./config/MF_CCL_gowalla_m1 --expid MF_CCL_gowalla_m1 --gpu 0"
   ]
  },
  {
   "cell_type": "markdown",
   "metadata": {},
   "source": [
    "### Example run - 5 (PairwiseLogisticLoss)"
   ]
  },
  {
   "cell_type": "code",
   "execution_count": null,
   "metadata": {},
   "outputs": [],
   "source": [
    "# Updated  - 100 nnegs - not reduced lr\n",
    "# since epoch=100, early stop does not work when \"patience\": 200,  \n",
    "field_name_2_new_value = {\n",
    "    \"loss\": \"PairwiseLogisticLoss\",\n",
    "    \"num_negs\": 100,\n",
    "    \"patience\": 200,  \n",
    "    \"reduce_lr_on_plateau\": False\n",
    "    \n",
    "}\n",
    "\n",
    "update_config(config_path=config_path, config_name=config_name, field_name_2_new_value=field_name_2_new_value)\n",
    "! python run_expid.py --config ./config/MF_CCL_gowalla_m1 --expid MF_CCL_gowalla_m1 --gpu 0"
   ]
  },
  {
   "cell_type": "markdown",
   "metadata": {},
   "source": [
    "### Example run - 6 (PairwiseMarginLoss)"
   ]
  },
  {
   "cell_type": "code",
   "execution_count": null,
   "metadata": {},
   "outputs": [],
   "source": [
    "# Updated  - 100 nnegs - not reduced lr\n",
    "# since epoch=100, early stop does not work when \"patience\": 200,  \n",
    "field_name_2_new_value = {\n",
    "    \"loss\": \"PairwiseMarginLoss\",\n",
    "    \"num_negs\": 100,\n",
    "    \"patience\": 200,  \n",
    "    \"reduce_lr_on_plateau\": False\n",
    "    \n",
    "}\n",
    "\n",
    "update_config(config_path=config_path, config_name=config_name, field_name_2_new_value=field_name_2_new_value)\n",
    "! python run_expid.py --config ./config/MF_CCL_gowalla_m1 --expid MF_CCL_gowalla_m1 --gpu 0"
   ]
  },
  {
   "cell_type": "markdown",
   "metadata": {},
   "source": [
    "### Example run - 7 (SigmoidCrossEntropyLoss)"
   ]
  },
  {
   "cell_type": "code",
   "execution_count": null,
   "metadata": {},
   "outputs": [],
   "source": [
    "# Updated  - 100 nnegs - not reduced lr\n",
    "# since epoch=100, early stop does not work when \"patience\": 200,  \n",
    "field_name_2_new_value = {\n",
    "    \"loss\": \"SigmoidCrossEntropyLoss\",\n",
    "    \"num_negs\": 100,\n",
    "    \"patience\": 200,  \n",
    "    \"reduce_lr_on_plateau\": False\n",
    "    \n",
    "}\n",
    "\n",
    "update_config(config_path=config_path, config_name=config_name, field_name_2_new_value=field_name_2_new_value)\n",
    "! python run_expid.py --config ./config/MF_CCL_gowalla_m1 --expid MF_CCL_gowalla_m1 --gpu 0"
   ]
  },
  {
   "cell_type": "markdown",
   "metadata": {},
   "source": [
    "### Example run - 8 (SoftmaxCrossEntropyLoss)"
   ]
  },
  {
   "cell_type": "code",
   "execution_count": null,
   "metadata": {},
   "outputs": [],
   "source": [
    "# Updated  - 100 nnegs - not reduced lr\n",
    "# since epoch=100, early stop does not work when \"patience\": 200,  \n",
    "field_name_2_new_value = {\n",
    "    \"loss\": \"SoftmaxCrossEntropyLoss\",\n",
    "    \"num_negs\": 100,\n",
    "    \"patience\": 200,  \n",
    "    \"reduce_lr_on_plateau\": False\n",
    "    \n",
    "}\n",
    "\n",
    "update_config(config_path=config_path, config_name=config_name, field_name_2_new_value=field_name_2_new_value)\n",
    "! python run_expid.py --config ./config/MF_CCL_gowalla_m1 --expid MF_CCL_gowalla_m1 --gpu 0"
   ]
  },
  {
   "cell_type": "markdown",
   "metadata": {},
   "source": [
    "## Gowalla - Simplex"
   ]
  },
  {
   "cell_type": "code",
   "execution_count": null,
   "metadata": {},
   "outputs": [],
   "source": [
    "# Gowalla - Simplex\n",
    "config_path = \"<path>/matching/cf/SimpleX/config/SimpleX_gowalla_m1/model_config.yaml\"\n",
    "config_name = \"SimpleX_gowalla_m1\""
   ]
  },
  {
   "cell_type": "code",
   "execution_count": null,
   "metadata": {},
   "outputs": [],
   "source": [
    "# Path in examples:  path: .../simplex/RecZoo/\n",
    "os.chdir('<path>/matching/cf/SimpleX')"
   ]
  },
  {
   "cell_type": "markdown",
   "metadata": {},
   "source": [
    "### Example run -1  (CCL)"
   ]
  },
  {
   "cell_type": "code",
   "execution_count": null,
   "metadata": {},
   "outputs": [],
   "source": [
    "#  CCL -\n",
    "field_name_2_new_value = {\n",
    "    \"num_negs\": 100,\n",
    "    \"patience\": 200,\n",
    "    \"reduce_lr_on_plateau\": False,\n",
    "}\n",
    "\n",
    "update_config(config_path=config_path, config_name=config_name, field_name_2_new_value=field_name_2_new_value)\n",
    "! python run_expid.py --config ./config/SimpleX_gowalla_m1 --expid SimpleX_gowalla_m1 --gpu 0"
   ]
  },
  {
   "cell_type": "markdown",
   "metadata": {},
   "source": [
    "### Example run - 2  (CCL, Early stop)\n"
   ]
  },
  {
   "cell_type": "code",
   "execution_count": null,
   "metadata": {},
   "outputs": [],
   "source": [
    "#  CCL - Early stop\n",
    "#  Note: Lower than 100 patience allows early stop, which is a side-effect from Simplex code\n",
    "field_name_2_new_value = {\n",
    "    \"num_negs\": 100,\n",
    "    \"patience\": 3, \n",
    "    \"reduce_lr_on_plateau\": False,\n",
    "}\n",
    "\n",
    "update_config(config_path=config_path, config_name=config_name, field_name_2_new_value=field_name_2_new_value)\n",
    "! python run_expid.py --config ./config/SimpleX_gowalla_m1 --expid SimpleX_gowalla_m1 --gpu 0"
   ]
  },
  {
   "cell_type": "markdown",
   "metadata": {},
   "source": [
    "### Example run - 3  (MultiCosineContrastiveLoss, Early stop)\n"
   ]
  },
  {
   "cell_type": "code",
   "execution_count": null,
   "metadata": {},
   "outputs": [],
   "source": [
    "# Simplex - MMCL With early stop\n",
    "field_name_2_new_value = {\n",
    "    \"loss\": \"MultiCosineContrastiveLoss\",\n",
    "    \"num_negs\": 100,\n",
    "    \"patience\": 3,  \n",
    "    \"margin_values_list\": [0.7, 0.8, 0.9],\n",
    "    \"negative_weights_list\": [0.10, 0.15, 0.75],\n",
    "    \"pos_weight\": 1,\n",
    "    \"neg_weight\": 700,\n",
    "    \"reduce_lr_on_plateau\": False\n",
    "    \n",
    "}\n",
    "\n",
    "update_config(config_path=config_path, config_name=config_name, field_name_2_new_value=field_name_2_new_value)\n",
    "! python run_expid.py --config ./config/SimpleX_gowalla_m1 --expid SimpleX_gowalla_m1 --gpu 0"
   ]
  },
  {
   "cell_type": "markdown",
   "metadata": {},
   "source": [
    "### Example run - 4  (MultiCosineContrastiveLoss)\n"
   ]
  },
  {
   "cell_type": "code",
   "execution_count": null,
   "metadata": {},
   "outputs": [],
   "source": [
    "# Simplex - MMCL \n",
    "field_name_2_new_value = {\n",
    "    \"loss\": \"MultiCosineContrastiveLoss\",\n",
    "    \"num_negs\": 100,\n",
    "    \"patience\": 200,  \n",
    "    \"margin_values_list\": [0.7, 0.8, 0.9],\n",
    "    \"negative_weights_list\": [0.10, 0.15, 0.75],\n",
    "    \"pos_weight\": 1,\n",
    "    \"neg_weight\": 700,\n",
    "    \"reduce_lr_on_plateau\": False\n",
    "    \n",
    "}\n",
    "\n",
    "update_config(config_path=config_path, config_name=config_name, field_name_2_new_value=field_name_2_new_value)\n",
    "! python run_expid.py --config ./config/SimpleX_gowalla_m1 --expid SimpleX_gowalla_m1 --gpu 0\n"
   ]
  },
  {
   "cell_type": "code",
   "execution_count": null,
   "metadata": {},
   "outputs": [],
   "source": []
  }
 ],
 "metadata": {
  "kernelspec": {
   "display_name": "Python 3",
   "language": "python",
   "name": "python3"
  },
  "language_info": {
   "codemirror_mode": {
    "name": "ipython",
    "version": 3
   },
   "file_extension": ".py",
   "mimetype": "text/x-python",
   "name": "python",
   "nbconvert_exporter": "python",
   "pygments_lexer": "ipython3",
   "version": "3.9.6"
  }
 },
 "nbformat": 4,
 "nbformat_minor": 2
}
